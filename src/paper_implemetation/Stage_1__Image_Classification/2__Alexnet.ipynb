{
 "cells": [
  {
   "cell_type": "code",
   "execution_count": null,
   "metadata": {},
   "outputs": [],
   "source": [
    "\"\"\"\n",
    "Notes from the paper:\n",
    "\n",
    "The Alexnet paper used Convolutional Neural Networks to win the ImageNet competition in 2012.\n",
    "\n",
    "Goal:\n",
    "Image Classification\n",
    "\n",
    "Dataset Used:\n",
    "Imagenet-1000\n",
    "Imagenet is a 15 million labelled high-resolution (Relatively speeaking, compared to NIST which was 28 x28, this is 256 x 256) images in 22,000 categories. \n",
    "The 1000 category subset was used for this paper.\n",
    "\n",
    "Method Used:\n",
    "Convolution layers, occasionally followed by max-pooling layers. The final layers are fully connected layers, with Dropout layers in between.\n",
    "Ends with a 1000-way softmax layer.\n",
    "\n",
    "Architecture:\n",
    "Input (32, 32)\n",
    "-> Convolution (5x5, 6 filters) (6, 28, 28)\n",
    "-> Sub Sampling (6, 14, 14)\n",
    "-> Sigmoid\n",
    "-> Convolution (5x5, 16 filters) (16, 10, 10)\n",
    "-> Sub Sampling (16, 5, 5)\n",
    "-> Sigmoid\n",
    "-> Convolution (5x5, 120 filters) (120, 1, 1)\n",
    "-> Sigmoid\n",
    "-> Fully Connected (120)\n",
    "-> Sigmoid\n",
    "-> Fully Connected (84)\n",
    "-> Sigmoid\n",
    "-> RBF (10)\n",
    "\n",
    "Training Parameters / Hyperparamters:\n",
    "- Data Augmentation: Randomly cropped 224x224 patches from the 256x256 images, and horizontally mirroring them.\n",
    "    - This means that on test time, the image is resized to 256x256, and then 5 224x224 patches are cropped from it, and mirrored, and the network is run on all of them. The final prediction is the average of the 10 predictions.\n",
    "- They wrote a Cuda ConvNet from scratch to train the network. BASED\n",
    "- SGD with momentum 0.9 and weight decay 0.0005\n",
    "- Batch Size: 128\n",
    "\n",
    "Metrics Defined:\n",
    "Error Rate\n",
    "- Number of misclassified test samples / Total number of test samples\n",
    "\n",
    "Top 1 vs top 5 error rate\n",
    "- Top 1 error rate is the number of test samples for which the correct label is not among the top 1 predicted labels\n",
    "- Top 5 error rate is the number of test samples for which the correct label is not among the top 5 predicted labels\n",
    "\n",
    "Results:\n",
    "- Top-1 error rate: 37.5%\n",
    "- Top-5 error rate: 17.0%\n",
    "\"\"\""
   ]
  },
  {
   "cell_type": "markdown",
   "metadata": {},
   "source": [
    "# Getting ImageNet"
   ]
  },
  {
   "cell_type": "code",
   "execution_count": null,
   "metadata": {},
   "outputs": [
    {
     "name": "stdout",
     "output_type": "stream",
     "text": [
      "--2025-02-13 11:40:03--  https://image-net.org/data/ILSVRC/2012/ILSVRC2012_devkit_t12.tar.gz\n",
      "Resolving image-net.org (image-net.org)... 171.64.68.16\n",
      "Connecting to image-net.org (image-net.org)|171.64.68.16|:443... connected.\n",
      "HTTP request sent, awaiting response... 200 OK\n",
      "Length: 2568145 (2.4M) [application/x-gzip]\n",
      "Saving to: ‘./data/Imagenet/ILSVRC2012_devkit_t12.tar.gz’\n",
      "\n",
      "./data/Imagenet/ILS 100%[===================>]   2.45M   893KB/s    in 2.8s    \n",
      "\n",
      "2025-02-13 11:40:07 (893 KB/s) - ‘./data/Imagenet/ILSVRC2012_devkit_t12.tar.gz’ saved [2568145/2568145]\n",
      "\n",
      "--2025-02-13 11:40:07--  https://image-net.org/data/ILSVRC/2012/ILSVRC2012_img_train.tar\n",
      "Resolving image-net.org (image-net.org)... 171.64.68.16\n",
      "Connecting to image-net.org (image-net.org)|171.64.68.16|:443... connected.\n",
      "HTTP request sent, awaiting response... 200 OK\n",
      "Length: 147897477120 (138G) [application/x-tar]\n",
      "Saving to: ‘./data/Imagenet/ILSVRC2012_img_train.tar’\n",
      "\n",
      "g_train.tar           0%[                    ]  51.15M  1.16MB/s    eta 34h 52m^C\n",
      "--2025-02-13 11:40:54--  https://image-net.org/data/ILSVRC/2012/ILSVRC2012_img_val.tar\n",
      "Resolving image-net.org (image-net.org)... 171.64.68.16\n",
      "Connecting to image-net.org (image-net.org)|171.64.68.16|:443... connected.\n",
      "HTTP request sent, awaiting response... 200 OK\n",
      "Length: 6744924160 (6.3G) [application/x-tar]\n",
      "Saving to: ‘./data/Imagenet/ILSVRC2012_img_val.tar’\n",
      "\n",
      "C2012_img_val.tar     0%[                    ]  10.46M  1.63MB/s    eta 1h 54m "
     ]
    }
   ],
   "source": [
    "!mkdir -p ./data && mkdir -p ./data/Imagenet\n",
    "!wget https://image-net.org/data/ILSVRC/2012/ILSVRC2012_devkit_t12.tar.gz -O ./data/Imagenet/ILSVRC2012_devkit_t12.tar.gz\n",
    "# !tar -xvf ./data/Imagenet/ILSVRC2012_devkit_t12.tar.gz\n",
    "!wget https://image-net.org/data/ILSVRC/2012/ILSVRC2012_img_train.tar -O ./data/Imagenet/ILSVRC2012_img_train.tar\n",
    "# !tar -xvf ./data/Imagenet/ILSVRC2012_img_train.tar\n",
    "!wget https://image-net.org/data/ILSVRC/2012/ILSVRC2012_img_val.tar -O ./data/Imagenet/ILSVRC2012_img_val.tar\n",
    "# !tar -xvf ./data/Imagenet/ILSVRC2012_img_val.tar"
   ]
  },
  {
   "cell_type": "code",
   "execution_count": null,
   "metadata": {},
   "outputs": [],
   "source": [
    "from torchvision.datasets import ImageNet\n",
    "\n",
    "train_data = ImageNet(root='./data/Imagenet', split='train')\n"
   ]
  }
 ],
 "metadata": {
  "kernelspec": {
   "display_name": ".venv",
   "language": "python",
   "name": "python3"
  },
  "language_info": {
   "codemirror_mode": {
    "name": "ipython",
    "version": 3
   },
   "file_extension": ".py",
   "mimetype": "text/x-python",
   "name": "python",
   "nbconvert_exporter": "python",
   "pygments_lexer": "ipython3",
   "version": "3.12.9"
  }
 },
 "nbformat": 4,
 "nbformat_minor": 2
}
