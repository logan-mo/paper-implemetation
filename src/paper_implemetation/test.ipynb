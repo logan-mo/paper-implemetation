{
 "cells": [
  {
   "cell_type": "code",
   "execution_count": null,
   "metadata": {},
   "outputs": [],
   "source": [
    "\"\"\"\n",
    "Notes from the paper:\n",
    "\n",
    "Goal:\n",
    "\n",
    "Method Used:\n",
    "\n",
    "Architecture:\n",
    "\n",
    "Training Parameters / Hyperparamters:\n",
    "\n",
    "Metrics Defined:\n",
    "\n",
    "Results:\n",
    "\n",
    "\"\"\""
   ]
  }
 ],
 "metadata": {
  "kernelspec": {
   "display_name": ".venv",
   "language": "python",
   "name": "python3"
  },
  "language_info": {
   "codemirror_mode": {
    "name": "ipython",
    "version": 3
   },
   "file_extension": ".py",
   "mimetype": "text/x-python",
   "name": "python",
   "nbconvert_exporter": "python",
   "pygments_lexer": "ipython3",
   "version": "3.12.9"
  }
 },
 "nbformat": 4,
 "nbformat_minor": 2
}
